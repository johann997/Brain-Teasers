{
 "cells": [
  {
   "cell_type": "code",
   "execution_count": 10,
   "metadata": {},
   "outputs": [],
   "source": [
    "import numpy as np\n",
    "import re"
   ]
  },
  {
   "cell_type": "markdown",
   "metadata": {},
   "source": [
    "# Advent of Code 2024\n",
    "\n",
    "https://adventofcode.com/2024/about\n",
    "\n",
    "The creator of  Advent of Code has asked to not provide any of the question. So I will just link to each question and add my solutions below. \n",
    "\n",
    "\n",
    "---\n",
    "\n",
    "# Day 1\n",
    "\n",
    "https://adventofcode.com/2024/day/1"
   ]
  },
  {
   "cell_type": "code",
   "execution_count": null,
   "metadata": {},
   "outputs": [],
   "source": [
    "list1 = np.array([3,4,2,1,3,3])\n",
    "list2 = np.array([4,3,5,3,9,3])\n",
    "\n",
    "\n",
    "def list_distance(list1, list2):\n",
    "\n",
    "    list1_sort = np.sort(list1)\n",
    "    list2_sort = np.sort(list2)\n",
    "\n",
    "    diff = np.abs(list1_sort - list2_sort)\n",
    "\n",
    "    return np.sum(diff)"
   ]
  },
  {
   "cell_type": "code",
   "execution_count": 48,
   "metadata": {},
   "outputs": [
    {
     "name": "stdout",
     "output_type": "stream",
     "text": [
      "List distance is = 11\n"
     ]
    }
   ],
   "source": [
    "distance = list_distance(list1, list2)\n",
    "\n",
    "print(f'List distance is = {distance}')"
   ]
  },
  {
   "cell_type": "markdown",
   "metadata": {},
   "source": [
    "---\n",
    "\n",
    "# Day 2\n",
    "\n",
    "https://adventofcode.com/2024/day/2"
   ]
  },
  {
   "cell_type": "code",
   "execution_count": 45,
   "metadata": {},
   "outputs": [],
   "source": [
    "def is_report_safe(test):\n",
    "\n",
    "    test = np.array(test)\n",
    "\n",
    "    test1 = test[:-1]\n",
    "    test2 = test[1:]\n",
    "\n",
    "    diff = test2 - test1\n",
    "\n",
    "    pos = np.where(diff>0)[0]\n",
    "    neg = np.where(diff<0)[0]\n",
    "    \n",
    "    increase_decrease_check = False\n",
    "    if len(pos) == 0 or len(neg) == 0:\n",
    "        increase_decrease_check = True\n",
    "\n",
    "    diff = np.abs(diff)\n",
    "    adjacent_check = False\n",
    "    adjacent = np.where((diff < 1) | (diff > 3))[0]\n",
    "    if len(adjacent) == 0:\n",
    "        adjacent_check = True\n",
    "\n",
    "\n",
    "\n",
    "    if adjacent_check and increase_decrease_check:\n",
    "        return 'Safe'\n",
    "    else:\n",
    "        return 'Unsafe'\n",
    "\n",
    "        \n"
   ]
  },
  {
   "cell_type": "code",
   "execution_count": 46,
   "metadata": {},
   "outputs": [
    {
     "name": "stdout",
     "output_type": "stream",
     "text": [
      "--------------------------------------------------------------------------------\n",
      "1/6 correct\n",
      "--------------------------------------------------------------------------------\n",
      "2/6 correct\n",
      "--------------------------------------------------------------------------------\n",
      "3/6 correct\n",
      "--------------------------------------------------------------------------------\n",
      "4/6 correct\n",
      "--------------------------------------------------------------------------------\n",
      "5/6 correct\n",
      "--------------------------------------------------------------------------------\n",
      "6/6 correct\n"
     ]
    }
   ],
   "source": [
    "tests = [\n",
    "[[7, 6, 4, 2, 1], 'Safe'], #because the levels are all decreasing by 1 or 2.\n",
    "[[1, 2, 7, 8, 9], 'Unsafe'], #because 2 7 is an increase of 5.\n",
    "[[9, 7, 6, 2, 1], 'Unsafe'], #because 6 2 is a decrease of 4.\n",
    "[[1, 3, 2, 4, 5], 'Unsafe'], #because 1 3 is increasing but 3 2 is decreasing.\n",
    "[[8, 6, 4, 4, 1],  'Unsafe'], #because 4 4 is neither an increase or a decrease.\n",
    "[[1, 3, 6, 7, 9], 'Safe'], #because the levels are all increasing by 1, 2, or 3.\n",
    "]\n",
    "\n",
    "counter = 0\n",
    "for test_case in tests:\n",
    "    print('-'*80)\n",
    "\n",
    "    test, true_result = test_case\n",
    "    test_result = is_report_safe(test)\n",
    "\n",
    "    if true_result == test_result:\n",
    "        counter += 1\n",
    "        print(f'{counter}/{len(tests)} correct')\n"
   ]
  },
  {
   "cell_type": "markdown",
   "metadata": {},
   "source": [
    "---\n",
    "\n",
    "# Day 3\n",
    "\n",
    "https://adventofcode.com/2024/day/3\n",
    "\n",
    "Using regex expression helper https://regex101.com\n"
   ]
  },
  {
   "cell_type": "code",
   "execution_count": null,
   "metadata": {},
   "outputs": [
    {
     "name": "stdout",
     "output_type": "stream",
     "text": [
      "Sum = 161\n"
     ]
    }
   ],
   "source": [
    "test_string = 'xmul(2,4)%&mul[3,7]!@^do_not_mul(5,5)+mul(32,64]then(mul(11,8)mul(8,5))' # result: 161  = (2*4 + 5*5 + 11*8 + 8*5)\n",
    "\n",
    "def corrupted_instruction_mul(input_string):\n",
    "\n",
    "    pattern = r\"mul\\((\\d{1,3}),(\\d{1,3})\\)\"\n",
    "    matches = re.findall(pattern, input_string)\n",
    "    results = [int(a) * int(b) for a, b in matches]\n",
    "\n",
    "    return sum(results)\n",
    "\n",
    "\n",
    "print(f'Sum = {corrupted_instruction_mul(test_string)}')"
   ]
  },
  {
   "cell_type": "markdown",
   "metadata": {},
   "source": [
    "---\n",
    "\n",
    "# Day 4\n",
    "\n",
    "https://adventofcode.com/2024/day/4\n",
    "\n",
    "```\n",
    "MMMSXXMASM \n",
    "MSAMXMSMSA \n",
    "AMXSXMAAMM \n",
    "MSAMASMSMX \n",
    "XMASAMXAMM \n",
    "XXAMMXXAMA \n",
    "SMSMSASXSS \n",
    "SAXAMASAAA \n",
    "MAMMMXMMMM \n",
    "MXMXAXMASX \n",
    "```\n",
    "\n",
    "MAM;MMM;MSA;SAM;XMX;XXS;MMX;ASM;SMA;MSA\n",
    "\n",
    "MAM;MMM;MSA;SAM;XMX;XXS;MMX;ASM;SMA;MSA;"
   ]
  },
  {
   "cell_type": "code",
   "execution_count": 55,
   "metadata": {},
   "outputs": [
    {
     "name": "stdout",
     "output_type": "stream",
     "text": [
      "Number of XMAS = 18\n"
     ]
    }
   ],
   "source": [
    "input_string = 'MMMSXXMASM;MSAMXMSMSA;AMXSXMAAMM;MSAMASMSMX;XMASAMXAMM;XXAMMXXAMA;SMSMSASXSS;SAXAMASAAA;MAMMMXMMMM;MXMXAXMASX'\n",
    "\n",
    "\n",
    "\n",
    "def transpose_string(input_string):\n",
    "    # Split the string into rows\n",
    "    rows = input_string.split(';')\n",
    "\n",
    "    # Ensure all rows have the same length\n",
    "    rows = [list(row) for row in rows]\n",
    "\n",
    "    # Transpose the rows and columns\n",
    "    transposed = np.array(rows).T.tolist()\n",
    "\n",
    "    # Reconstruct the transposed matrix as a string\n",
    "    transposed_rows = [''.join(col) for col in transposed]\n",
    "\n",
    "    return ';'.join(transposed_rows)\n",
    "\n",
    "\n",
    "def build_diagonal_string(input_string):\n",
    "\n",
    "    diagonal_string = ''\n",
    "\n",
    "    rows = input_string.split(';')\n",
    "\n",
    "    num_column = len(rows[0])\n",
    "    num_rows = len(rows)\n",
    "\n",
    "    left_str_master = ''\n",
    "    right_str_master = ''\n",
    "\n",
    "    # top row\n",
    "    for col_index in range(num_column):\n",
    "            continue_diagonal = True\n",
    "            left_str = ''\n",
    "            right_str = ''\n",
    "            left_col_index = col_index\n",
    "            right_col_index = col_index\n",
    "            row_index = 0\n",
    "            while(continue_diagonal):\n",
    "\n",
    "                if left_col_index >= 0:\n",
    "                    left_str = left_str + rows[row_index][left_col_index]\n",
    "                if right_col_index < num_column:\n",
    "                    right_str = right_str + rows[row_index][right_col_index]\n",
    "\n",
    "                left_col_index -= 1\n",
    "                right_col_index += 1\n",
    "                row_index += 1\n",
    "\n",
    "                if row_index >= num_rows:\n",
    "                     continue_diagonal = False\n",
    "\n",
    "            \n",
    "            left_str_master +=  left_str + ';'\n",
    "            right_str_master += right_str + ';'\n",
    "\n",
    "    # sides\n",
    "    for row_index in range(1, num_rows):\n",
    "        continue_diagonal = True\n",
    "        left_str = ''\n",
    "        right_str = ''\n",
    "        left_col_index = 0\n",
    "        right_col_index = num_column - 1\n",
    "\n",
    "        while(continue_diagonal):\n",
    "\n",
    "            if left_col_index < num_column:\n",
    "                left_str = left_str + rows[row_index][left_col_index]\n",
    "            if right_col_index >= 0:\n",
    "                right_str = right_str + rows[row_index][right_col_index]\n",
    "\n",
    "            left_col_index += 1\n",
    "            right_col_index -= 1\n",
    "            row_index += 1\n",
    "\n",
    "            if row_index >= num_rows:\n",
    "                    continue_diagonal = False\n",
    "        left_str_master +=  left_str + ';'\n",
    "        right_str_master += right_str + ';'\n",
    "\n",
    "\n",
    "    diagonal_string = left_str_master + right_str_master\n",
    "\n",
    "    return diagonal_string.replace(\" \", \"\")\n",
    "\n",
    "\n",
    "\n",
    "\n",
    "def count_words(input_string):\n",
    "    forward = \"XMAS\"\n",
    "    backward = \"SAMX\"\n",
    "\n",
    "    count = 0\n",
    "\n",
    "    # count horizontal\n",
    "    for word in input_string.split(';'):\n",
    "        forward_count = word.count(forward)\n",
    "        backward_count = word.count(backward)\n",
    "\n",
    "        count += forward_count\n",
    "        count += backward_count\n",
    "\n",
    "    # count vertical\n",
    "    vertical_string = transpose_string(input_string)\n",
    "    for word in vertical_string.split(';'):\n",
    "        forward_count = word.count(forward)\n",
    "        backward_count = word.count(backward)\n",
    "\n",
    "        count += forward_count\n",
    "        count += backward_count\n",
    "\n",
    "\n",
    "    diagonal_string = build_diagonal_string(input_string)\n",
    "    for word in diagonal_string.split(';'):\n",
    "        forward_count = word.count(forward)\n",
    "        backward_count = word.count(backward)\n",
    "\n",
    "        count += forward_count\n",
    "        count += backward_count\n",
    "\n",
    "\n",
    "\n",
    "    return count\n",
    "\n",
    "\n",
    "print(f'Number of XMAS = {count_words(input_string)}')"
   ]
  },
  {
   "cell_type": "markdown",
   "metadata": {},
   "source": [
    "---\n",
    "\n",
    "# Day 5"
   ]
  },
  {
   "cell_type": "markdown",
   "metadata": {},
   "source": [
    "---\n",
    "\n",
    "# Day 6"
   ]
  },
  {
   "cell_type": "markdown",
   "metadata": {},
   "source": [
    "---\n",
    "\n",
    "# Day 7"
   ]
  },
  {
   "cell_type": "markdown",
   "metadata": {},
   "source": [
    "---\n",
    "\n",
    "# Day 8"
   ]
  },
  {
   "cell_type": "markdown",
   "metadata": {},
   "source": [
    "---\n",
    "\n",
    "# Day 9"
   ]
  },
  {
   "cell_type": "markdown",
   "metadata": {},
   "source": [
    "---\n",
    "\n",
    "# Day 10"
   ]
  },
  {
   "cell_type": "markdown",
   "metadata": {},
   "source": []
  }
 ],
 "metadata": {
  "kernelspec": {
   "display_name": "berlin_wall_env",
   "language": "python",
   "name": "python3"
  },
  "language_info": {
   "codemirror_mode": {
    "name": "ipython",
    "version": 3
   },
   "file_extension": ".py",
   "mimetype": "text/x-python",
   "name": "python",
   "nbconvert_exporter": "python",
   "pygments_lexer": "ipython3",
   "version": "3.12.7"
  }
 },
 "nbformat": 4,
 "nbformat_minor": 2
}
