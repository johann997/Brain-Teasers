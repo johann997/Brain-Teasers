{
 "cells": [
  {
   "cell_type": "code",
   "execution_count": 1,
   "metadata": {},
   "outputs": [],
   "source": [
    "import numpy as np\n",
    "import re\n",
    "import itertools\n"
   ]
  },
  {
   "cell_type": "markdown",
   "metadata": {},
   "source": [
    "# Advent of Code 2024\n",
    "\n",
    "https://adventofcode.com/2024/about\n",
    "\n",
    "The creator of  Advent of Code has asked to not provide any of the question. So I will just link to each question and add my solutions below. \n",
    "\n",
    "\n",
    "---\n",
    "\n",
    "# Day 1\n",
    "\n",
    "https://adventofcode.com/2024/day/1"
   ]
  },
  {
   "cell_type": "code",
   "execution_count": null,
   "metadata": {},
   "outputs": [],
   "source": [
    "list1 = np.array([3,4,2,1,3,3])\n",
    "list2 = np.array([4,3,5,3,9,3])\n",
    "\n",
    "\n",
    "def list_distance(list1, list2):\n",
    "\n",
    "    list1_sort = np.sort(list1)\n",
    "    list2_sort = np.sort(list2)\n",
    "\n",
    "    diff = np.abs(list1_sort - list2_sort)\n",
    "\n",
    "    return np.sum(diff)"
   ]
  },
  {
   "cell_type": "code",
   "execution_count": 48,
   "metadata": {},
   "outputs": [
    {
     "name": "stdout",
     "output_type": "stream",
     "text": [
      "List distance is = 11\n"
     ]
    }
   ],
   "source": [
    "distance = list_distance(list1, list2)\n",
    "\n",
    "print(f'List distance is = {distance}')"
   ]
  },
  {
   "cell_type": "markdown",
   "metadata": {},
   "source": [
    "---\n",
    "\n",
    "# Day 2\n",
    "\n",
    "https://adventofcode.com/2024/day/2"
   ]
  },
  {
   "cell_type": "code",
   "execution_count": 45,
   "metadata": {},
   "outputs": [],
   "source": [
    "def is_report_safe(test):\n",
    "\n",
    "    test = np.array(test)\n",
    "\n",
    "    test1 = test[:-1]\n",
    "    test2 = test[1:]\n",
    "\n",
    "    diff = test2 - test1\n",
    "\n",
    "    pos = np.where(diff>0)[0]\n",
    "    neg = np.where(diff<0)[0]\n",
    "    \n",
    "    increase_decrease_check = False\n",
    "    if len(pos) == 0 or len(neg) == 0:\n",
    "        increase_decrease_check = True\n",
    "\n",
    "    diff = np.abs(diff)\n",
    "    adjacent_check = False\n",
    "    adjacent = np.where((diff < 1) | (diff > 3))[0]\n",
    "    if len(adjacent) == 0:\n",
    "        adjacent_check = True\n",
    "\n",
    "\n",
    "\n",
    "    if adjacent_check and increase_decrease_check:\n",
    "        return 'Safe'\n",
    "    else:\n",
    "        return 'Unsafe'\n",
    "\n",
    "        \n"
   ]
  },
  {
   "cell_type": "code",
   "execution_count": 46,
   "metadata": {},
   "outputs": [
    {
     "name": "stdout",
     "output_type": "stream",
     "text": [
      "--------------------------------------------------------------------------------\n",
      "1/6 correct\n",
      "--------------------------------------------------------------------------------\n",
      "2/6 correct\n",
      "--------------------------------------------------------------------------------\n",
      "3/6 correct\n",
      "--------------------------------------------------------------------------------\n",
      "4/6 correct\n",
      "--------------------------------------------------------------------------------\n",
      "5/6 correct\n",
      "--------------------------------------------------------------------------------\n",
      "6/6 correct\n"
     ]
    }
   ],
   "source": [
    "tests = [\n",
    "[[7, 6, 4, 2, 1], 'Safe'], #because the levels are all decreasing by 1 or 2.\n",
    "[[1, 2, 7, 8, 9], 'Unsafe'], #because 2 7 is an increase of 5.\n",
    "[[9, 7, 6, 2, 1], 'Unsafe'], #because 6 2 is a decrease of 4.\n",
    "[[1, 3, 2, 4, 5], 'Unsafe'], #because 1 3 is increasing but 3 2 is decreasing.\n",
    "[[8, 6, 4, 4, 1],  'Unsafe'], #because 4 4 is neither an increase or a decrease.\n",
    "[[1, 3, 6, 7, 9], 'Safe'], #because the levels are all increasing by 1, 2, or 3.\n",
    "]\n",
    "\n",
    "counter = 0\n",
    "for test_case in tests:\n",
    "    print('-'*80)\n",
    "\n",
    "    test, true_result = test_case\n",
    "    test_result = is_report_safe(test)\n",
    "\n",
    "    if true_result == test_result:\n",
    "        counter += 1\n",
    "        print(f'{counter}/{len(tests)} correct')\n"
   ]
  },
  {
   "cell_type": "markdown",
   "metadata": {},
   "source": [
    "---\n",
    "\n",
    "# Day 3\n",
    "\n",
    "https://adventofcode.com/2024/day/3\n",
    "\n",
    "Using regex expression helper https://regex101.com\n"
   ]
  },
  {
   "cell_type": "code",
   "execution_count": null,
   "metadata": {},
   "outputs": [
    {
     "name": "stdout",
     "output_type": "stream",
     "text": [
      "Sum = 161\n"
     ]
    }
   ],
   "source": [
    "test_string = 'xmul(2,4)%&mul[3,7]!@^do_not_mul(5,5)+mul(32,64]then(mul(11,8)mul(8,5))' # result: 161  = (2*4 + 5*5 + 11*8 + 8*5)\n",
    "\n",
    "def corrupted_instruction_mul(input_string):\n",
    "\n",
    "    pattern = r\"mul\\((\\d{1,3}),(\\d{1,3})\\)\"\n",
    "    matches = re.findall(pattern, input_string)\n",
    "    results = [int(a) * int(b) for a, b in matches]\n",
    "\n",
    "    return sum(results)\n",
    "\n",
    "\n",
    "print(f'Sum = {corrupted_instruction_mul(test_string)}')"
   ]
  },
  {
   "cell_type": "markdown",
   "metadata": {},
   "source": [
    "---\n",
    "\n",
    "# Day 4\n",
    "\n",
    "https://adventofcode.com/2024/day/4\n",
    "\n",
    "```\n",
    "MMMSXXMASM \n",
    "MSAMXMSMSA \n",
    "AMXSXMAAMM \n",
    "MSAMASMSMX \n",
    "XMASAMXAMM \n",
    "XXAMMXXAMA \n",
    "SMSMSASXSS \n",
    "SAXAMASAAA \n",
    "MAMMMXMMMM \n",
    "MXMXAXMASX \n",
    "```\n"
   ]
  },
  {
   "cell_type": "code",
   "execution_count": 55,
   "metadata": {},
   "outputs": [
    {
     "name": "stdout",
     "output_type": "stream",
     "text": [
      "Number of XMAS = 18\n"
     ]
    }
   ],
   "source": [
    "input_string = 'MMMSXXMASM;MSAMXMSMSA;AMXSXMAAMM;MSAMASMSMX;XMASAMXAMM;XXAMMXXAMA;SMSMSASXSS;SAXAMASAAA;MAMMMXMMMM;MXMXAXMASX'\n",
    "\n",
    "\n",
    "\n",
    "def transpose_string(input_string):\n",
    "    # Split the string into rows\n",
    "    rows = input_string.split(';')\n",
    "\n",
    "    # Ensure all rows have the same length\n",
    "    rows = [list(row) for row in rows]\n",
    "\n",
    "    # Transpose the rows and columns\n",
    "    transposed = np.array(rows).T.tolist()\n",
    "\n",
    "    # Reconstruct the transposed matrix as a string\n",
    "    transposed_rows = [''.join(col) for col in transposed]\n",
    "\n",
    "    return ';'.join(transposed_rows)\n",
    "\n",
    "\n",
    "def build_diagonal_string(input_string):\n",
    "\n",
    "    diagonal_string = ''\n",
    "\n",
    "    rows = input_string.split(';')\n",
    "\n",
    "    num_column = len(rows[0])\n",
    "    num_rows = len(rows)\n",
    "\n",
    "    left_str_master = ''\n",
    "    right_str_master = ''\n",
    "\n",
    "    # top row\n",
    "    for col_index in range(num_column):\n",
    "            continue_diagonal = True\n",
    "            left_str = ''\n",
    "            right_str = ''\n",
    "            left_col_index = col_index\n",
    "            right_col_index = col_index\n",
    "            row_index = 0\n",
    "            while(continue_diagonal):\n",
    "\n",
    "                if left_col_index >= 0:\n",
    "                    left_str = left_str + rows[row_index][left_col_index]\n",
    "                if right_col_index < num_column:\n",
    "                    right_str = right_str + rows[row_index][right_col_index]\n",
    "\n",
    "                left_col_index -= 1\n",
    "                right_col_index += 1\n",
    "                row_index += 1\n",
    "\n",
    "                if row_index >= num_rows:\n",
    "                     continue_diagonal = False\n",
    "\n",
    "            \n",
    "            left_str_master +=  left_str + ';'\n",
    "            right_str_master += right_str + ';'\n",
    "\n",
    "    # sides\n",
    "    for row_index in range(1, num_rows):\n",
    "        continue_diagonal = True\n",
    "        left_str = ''\n",
    "        right_str = ''\n",
    "        left_col_index = 0\n",
    "        right_col_index = num_column - 1\n",
    "\n",
    "        while(continue_diagonal):\n",
    "\n",
    "            if left_col_index < num_column:\n",
    "                left_str = left_str + rows[row_index][left_col_index]\n",
    "            if right_col_index >= 0:\n",
    "                right_str = right_str + rows[row_index][right_col_index]\n",
    "\n",
    "            left_col_index += 1\n",
    "            right_col_index -= 1\n",
    "            row_index += 1\n",
    "\n",
    "            if row_index >= num_rows:\n",
    "                    continue_diagonal = False\n",
    "        left_str_master +=  left_str + ';'\n",
    "        right_str_master += right_str + ';'\n",
    "\n",
    "\n",
    "    diagonal_string = left_str_master + right_str_master\n",
    "\n",
    "    return diagonal_string.replace(\" \", \"\")\n",
    "\n",
    "\n",
    "\n",
    "\n",
    "def count_words(input_string):\n",
    "    forward = \"XMAS\"\n",
    "    backward = \"SAMX\"\n",
    "\n",
    "    count = 0\n",
    "\n",
    "    # count horizontal\n",
    "    for word in input_string.split(';'):\n",
    "        forward_count = word.count(forward)\n",
    "        backward_count = word.count(backward)\n",
    "\n",
    "        count += forward_count\n",
    "        count += backward_count\n",
    "\n",
    "    # count vertical\n",
    "    vertical_string = transpose_string(input_string)\n",
    "    for word in vertical_string.split(';'):\n",
    "        forward_count = word.count(forward)\n",
    "        backward_count = word.count(backward)\n",
    "\n",
    "        count += forward_count\n",
    "        count += backward_count\n",
    "\n",
    "\n",
    "    diagonal_string = build_diagonal_string(input_string)\n",
    "    for word in diagonal_string.split(';'):\n",
    "        forward_count = word.count(forward)\n",
    "        backward_count = word.count(backward)\n",
    "\n",
    "        count += forward_count\n",
    "        count += backward_count\n",
    "\n",
    "\n",
    "\n",
    "    return count\n",
    "\n",
    "\n",
    "print(f'Number of XMAS = {count_words(input_string)}')"
   ]
  },
  {
   "cell_type": "markdown",
   "metadata": {},
   "source": [
    "---\n",
    "\n",
    "# Day 5\n",
    "\n",
    "https://adventofcode.com/2024/day/5"
   ]
  },
  {
   "cell_type": "code",
   "execution_count": null,
   "metadata": {},
   "outputs": [
    {
     "name": "stdout",
     "output_type": "stream",
     "text": [
      "Correct update middle number sum = 143\n"
     ]
    }
   ],
   "source": [
    "input_rule = [\n",
    "    '47|53',\n",
    "    '97|13',\n",
    "    '97|61',\n",
    "    '97|47',\n",
    "    '75|29',\n",
    "    '61|13',\n",
    "    '75|53',\n",
    "    '29|13',\n",
    "    '97|29',\n",
    "    '53|29',\n",
    "    '61|53',\n",
    "    '97|53',\n",
    "    '61|29',\n",
    "    '47|13',\n",
    "    '75|47',\n",
    "    '97|75',\n",
    "    '47|61',\n",
    "    '75|61',\n",
    "    '47|29',\n",
    "    '75|13',\n",
    "    '53|13']\n",
    "\n",
    "input_tests = '75,47,61,53,29;97,61,53,29,13;75,29,13;75,97,47,61,53;61,13,29;97,13,75,29,47'\n",
    "\n",
    "def rules_to_dict(input_rule):\n",
    "\n",
    "    unique_start_num = []\n",
    "    rule_dict = {}\n",
    "\n",
    "    for rule_num in input_rule:\n",
    "\n",
    "        start_num = int(rule_num.split('|')[0])\n",
    "\n",
    "        if start_num not in unique_start_num:\n",
    "            unique_start_num.append(start_num)\n",
    "            rule_dict[str(start_num)] = [rule_num.split('|')[1]]\n",
    "        else:\n",
    "            rule_dict[str(start_num)].append(rule_num.split('|')[1])\n",
    "\n",
    "    \n",
    "    return rule_dict\n",
    "\n",
    "\n",
    "def check_update(input_update, rule_dict):\n",
    "\n",
    "    update_list = input_update.split(',')\n",
    "    update_correct = True\n",
    "\n",
    "    for key_index, key in enumerate(update_list[1:]):\n",
    "\n",
    "        if key in rule_dict.keys():\n",
    "            value = rule_dict[key]\n",
    "            update_list_indexed = update_list[:key_index+1]\n",
    "\n",
    "            if len(set(value) & set(update_list_indexed)) > 0:\n",
    "                update_correct = False\n",
    "                break\n",
    "        else:\n",
    "            continue\n",
    "\n",
    "    return update_correct\n",
    "\n",
    "\n",
    "def check_updates(input_update):\n",
    "\n",
    "    rule_dict = rules_to_dict(input_rule)\n",
    "\n",
    "    count = 0 \n",
    "\n",
    "    for input_update in input_update.split(';'):\n",
    "\n",
    "        if check_update(input_update, rule_dict):\n",
    "            input_update_list = input_update.split(',')\n",
    "\n",
    "            count += int(input_update_list[int((len(input_update_list) - 1) / 2)])\n",
    "\n",
    "\n",
    "    return count\n",
    "\n",
    "\n",
    "print(f'Correct update middle number sum = {check_updates(input_tests)}')"
   ]
  },
  {
   "cell_type": "markdown",
   "metadata": {},
   "source": [
    "---\n",
    "\n",
    "# Day 6\n",
    "\n",
    "https://adventofcode.com/2024/day/6"
   ]
  },
  {
   "cell_type": "code",
   "execution_count": null,
   "metadata": {},
   "outputs": [
    {
     "name": "stdout",
     "output_type": "stream",
     "text": [
      "quit while loop\n",
      "Distinct positions = 41\n"
     ]
    }
   ],
   "source": [
    "MAP = '....#.....;.........#;..........;..#.......;.......#..;..........;.#..^.....;........#.;#.........;......#...'\n",
    "\n",
    "def predict_guard_path(initial_map):\n",
    "\n",
    "    direction = 0 # i.e. left or East\n",
    "\n",
    "    map_list = np.array([list(i) for i in initial_map.split(';')])\n",
    "    num_column = len(map_list[0])\n",
    "    num_rows = len(map_list)\n",
    "\n",
    "    current_coord = np.array(np.where(map_list == '^')).flatten() # row, col\n",
    "    new_coord = np.zeros(2) # row, col\n",
    "   \n",
    "    guard_contained = True\n",
    "    final_map = map_list\n",
    "\n",
    "    while guard_contained:\n",
    "        make_turn = False\n",
    "\n",
    "        if direction == 0:\n",
    "            new_coord = current_coord + [-1, 0]\n",
    "        elif direction == 90:\n",
    "            new_coord = current_coord + [0, 1]\n",
    "        elif direction == 180:\n",
    "            new_coord = current_coord + [1, 0]\n",
    "        elif direction == 270:\n",
    "            new_coord = current_coord + [0, -1]\n",
    "\n",
    "        if (new_coord[0] < 0) or \\\n",
    "            (new_coord[0] >= num_rows) or \\\n",
    "            (new_coord[1] < 0) or \\\n",
    "            (new_coord[1] >= num_column):\n",
    "\n",
    "            guard_contained = False\n",
    "            break\n",
    "\n",
    "        new_map_value = map_list[new_coord[0]][new_coord[1]]\n",
    "\n",
    "        if new_map_value == '#':\n",
    "            make_turn = True\n",
    "            new_coord = current_coord\n",
    "\n",
    "        if make_turn:\n",
    "            direction = (direction + 90) % 360\n",
    "        else:\n",
    "            final_map[current_coord[0]][current_coord[1]] = 'X'\n",
    "            current_coord = new_coord\n",
    "            final_map[current_coord[0]][current_coord[1]] = 'X'\n",
    "        \n",
    "    \n",
    "    return final_map\n",
    "\n",
    "\n",
    "print(f'Distinct positions = {len(np.where(predict_guard_path(MAP) == 'X')[0])}')\n",
    "\n"
   ]
  },
  {
   "cell_type": "code",
   "execution_count": 107,
   "metadata": {},
   "outputs": [
    {
     "data": {
      "text/plain": [
       "array([1, 3])"
      ]
     },
     "execution_count": 107,
     "metadata": {},
     "output_type": "execute_result"
    }
   ],
   "source": [
    "np.array([2,3]) + [-1, 0]"
   ]
  },
  {
   "cell_type": "markdown",
   "metadata": {},
   "source": [
    "---\n",
    "\n",
    "# Day 7\n",
    "\n",
    "https://adventofcode.com/2024/day/7"
   ]
  },
  {
   "cell_type": "code",
   "execution_count": 22,
   "metadata": {},
   "outputs": [
    {
     "name": "stdout",
     "output_type": "stream",
     "text": [
      "Total Calibration Result: 3749\n"
     ]
    }
   ],
   "source": [
    "\n",
    "def evaluate_equation(target, numbers):\n",
    "    # Generate all possible combinations of operators ('+' and '*')\n",
    "    operator_combinations = itertools.product('+*', repeat=len(numbers) - 1)\n",
    "    \n",
    "    for operators in operator_combinations:\n",
    "        # Evaluate the equation with the current operator combination\n",
    "        result = numbers[0]\n",
    "        for num, op in zip(numbers[1:], operators):\n",
    "            if op == '+':\n",
    "                result += num\n",
    "            elif op == '*':\n",
    "                result *= num\n",
    "        \n",
    "        # Check if the result matches the target\n",
    "        if result == target:\n",
    "            return True\n",
    "    return False\n",
    "\n",
    "\n",
    "def total_calibration_result(equations):\n",
    "    total = 0\n",
    "    for equation in equations:\n",
    "        target, numbers = equation\n",
    "        if evaluate_equation(target, numbers):\n",
    "            total += target\n",
    "    return total\n",
    "\n",
    "\n",
    "# Example input\n",
    "input_data = [\n",
    "    (190, [10, 19]),\n",
    "    (3267, [81, 40, 27]),\n",
    "    (83, [17, 5]),\n",
    "    (156, [15, 6]),\n",
    "    (7290, [6, 8, 6, 15]),\n",
    "    (161011, [16, 10, 13]),\n",
    "    (192, [17, 8, 14]),\n",
    "    (21037, [9, 7, 18, 13]),\n",
    "    (292, [11, 6, 16, 20]),\n",
    "]\n",
    "\n",
    "# Compute the total calibration result\n",
    "result = total_calibration_result(input_data)\n",
    "print(\"Total Calibration Result:\", result)\n"
   ]
  },
  {
   "cell_type": "markdown",
   "metadata": {},
   "source": [
    "---\n",
    "\n",
    "# Day 8\n",
    "\n",
    "https://adventofcode.com/2024/day/8"
   ]
  },
  {
   "cell_type": "code",
   "execution_count": 64,
   "metadata": {},
   "outputs": [
    {
     "name": "stdout",
     "output_type": "stream",
     "text": [
      "Total unique antinode locations: 14\n"
     ]
    }
   ],
   "source": [
    "def parse_map(map_input):\n",
    "    \"\"\"\n",
    "    Parse the map and return a list of antenna locations and their frequencies.\n",
    "    \"\"\"\n",
    "    antennas = []\n",
    "    for y, row in enumerate(map_input):\n",
    "        for x, char in enumerate(row):\n",
    "            if char.isalnum():  # Antenna with frequency\n",
    "                antennas.append((x, y, char))\n",
    "    return antennas\n",
    "\n",
    "def find_antinodes(antennas, width, height):\n",
    "    \"\"\"\n",
    "    Calculate all unique antinode locations within the map bounds.\n",
    "    \"\"\"\n",
    "    antinode_set = set()\n",
    "    \n",
    "    # Group antennas by frequency\n",
    "    from collections import defaultdict\n",
    "    freq_groups = defaultdict(list)\n",
    "    for x, y, freq in antennas:\n",
    "        freq_groups[freq].append((x, y))\n",
    "    \n",
    "    # Calculate antinodes for each frequency\n",
    "    for freq, positions in freq_groups.items():\n",
    "        for i, (x1, y1) in enumerate(positions):\n",
    "            for j, (x2, y2) in enumerate(positions):\n",
    "                if i == j:\n",
    "                    continue  # Skip the same antenna\n",
    "                \n",
    "                for k in range(2):\n",
    "\n",
    "                    if k == 0:\n",
    "                        newx = 2*x1 - x2\n",
    "                        newy = 2*y1 - y2\n",
    "                    else:\n",
    "                        newx = -x1 + 2*x2\n",
    "                        newy = -y1 + 2*y2\n",
    "\n",
    "                    if 0 <= newx < width and 0 <= newy < height:\n",
    "                        antinode_set.add((newx, newy))\n",
    "\n",
    "    \n",
    "    return antinode_set\n",
    "\n",
    "\n",
    "input_map = [\n",
    "    \"............\",\n",
    "    \"........0...\",\n",
    "    \".....0......\",\n",
    "    \".......0....\",\n",
    "    \"....0.......\",\n",
    "    \"......A.....\",\n",
    "    \"............\",\n",
    "    \"............\",\n",
    "    \"........A...\",\n",
    "    \".........A..\",\n",
    "    \"............\",\n",
    "    \"............\"\n",
    "]\n",
    "\n",
    "# Dimensions of the map\n",
    "height = len(input_map)\n",
    "width = len(input_map[0])\n",
    "\n",
    "# Parse the input map\n",
    "antennas = parse_map(input_map)\n",
    "\n",
    "# Find unique antinode locations\n",
    "antinodes = find_antinodes(antennas, width, height)\n",
    "\n",
    "# Output the result\n",
    "print(\"Total unique antinode locations:\", len(antinodes))\n",
    "\n",
    "antinode_map = input_map\n",
    "\n",
    "for antinode in antinodes:\n",
    "    row = antinode[1]\n",
    "    col = antinode[0]\n",
    "    antinode_map[row] = antinode_map[row][:col] + '#' + antinode_map[row][col+1:]\n",
    "\n",
    "\n",
    "# print(antinode_map)"
   ]
  },
  {
   "cell_type": "markdown",
   "metadata": {},
   "source": [
    "---\n",
    "\n",
    "# Day 9\n",
    "\n",
    "https://adventofcode.com/2024/day/9"
   ]
  },
  {
   "cell_type": "code",
   "execution_count": 44,
   "metadata": {},
   "outputs": [
    {
     "name": "stdout",
     "output_type": "stream",
     "text": [
      "Total count = 1928\n"
     ]
    }
   ],
   "source": [
    "input = 2333133121414131402\n",
    "input_list = np.array([int(x) for x in str(input)])\n",
    "input_length = int(len(input_list))\n",
    "\n",
    "file_index = np.arange(0, input_length, 2).astype(int)\n",
    "free_space_index = np.arange(1, input_length, 2).astype(int)\n",
    "\n",
    "\n",
    "file_index_list = input_list[file_index]\n",
    "free_space = input_list[free_space_index]\n",
    "\n",
    "disk_map = ''\n",
    "for index, input_val in enumerate(file_index_list):\n",
    "    disk_map += str(index)*input_val\n",
    "    if index < len(free_space):\n",
    "        disk_map += '.' * free_space[index]\n",
    "\n",
    "while '.' in disk_map:\n",
    "    index = disk_map.find('.')\n",
    "    disk_map = disk_map[:index] + disk_map[-1] + disk_map[index+1:-1]\n",
    "\n",
    "\n",
    "count = 0\n",
    "for index in range(len(disk_map)):\n",
    "\n",
    "    count += index * int(disk_map[index])\n",
    "\n",
    "\n",
    "print(f'Total count = {count}')\n"
   ]
  },
  {
   "cell_type": "markdown",
   "metadata": {},
   "source": [
    "---\n",
    "\n",
    "# Day 10\n",
    "\n",
    "https://adventofcode.com/2024/day/10"
   ]
  },
  {
   "cell_type": "code",
   "execution_count": 56,
   "metadata": {},
   "outputs": [
    {
     "name": "stdout",
     "output_type": "stream",
     "text": [
      "Final count = 36\n"
     ]
    }
   ],
   "source": [
    "tomographic_map = '89010123;78121874;87430965;96549874;45678903;32019012;01329801;10456732'\n",
    "\n",
    "tomotgraphic_map_list = np.array([np.array(list(i)).astype(int) for i in tomographic_map.split(';')])\n",
    "\n",
    "width = len(tomotgraphic_map_list[0])\n",
    "height = len(tomotgraphic_map_list)\n",
    "\n",
    "starting_positions = np.where(tomotgraphic_map_list == 0)\n",
    "height_steps = np.arange(1, 10, 1)\n",
    "\n",
    "count = 0\n",
    "for startx, starty in zip(starting_positions[0], starting_positions[1]):\n",
    "\n",
    "    path_array = [[startx, starty]]\n",
    "    new_path_array = []\n",
    "\n",
    "    for height_step in height_steps:\n",
    "\n",
    "        new_path_array = []\n",
    "\n",
    "        for coord in path_array:\n",
    "\n",
    "            for dx, dy in zip([1, -1, 0, 0], [0, 0, 1, -1]):\n",
    "                newx = int(coord[0] + dx)\n",
    "                newy = int(coord[1] + dy)\n",
    "\n",
    "                if  0 <= newx < width and 0 <= newy < height:\n",
    "                    if tomotgraphic_map_list[newx, newy] == height_step:\n",
    "                        new_path_array.append([newx, newy])\n",
    "\n",
    "        new_path_set = set(tuple(element) for element in new_path_array)\n",
    "\n",
    "        path_array = [list(t) for t in set(tuple(element) for element in new_path_set)]\n",
    "\n",
    "        if height_step == 9:\n",
    "            count += len(path_array)\n",
    "\n",
    "\n",
    "print(f'Final count = {count}')\n",
    "\n"
   ]
  },
  {
   "cell_type": "markdown",
   "metadata": {},
   "source": [
    "---\n",
    "\n",
    "# Day 11"
   ]
  },
  {
   "cell_type": "code",
   "execution_count": null,
   "metadata": {},
   "outputs": [],
   "source": []
  },
  {
   "cell_type": "markdown",
   "metadata": {},
   "source": [
    "---\n",
    "\n",
    "# Day 12"
   ]
  },
  {
   "cell_type": "code",
   "execution_count": null,
   "metadata": {},
   "outputs": [],
   "source": []
  },
  {
   "cell_type": "markdown",
   "metadata": {},
   "source": [
    "---\n",
    "\n",
    "# Day 13"
   ]
  },
  {
   "cell_type": "code",
   "execution_count": null,
   "metadata": {},
   "outputs": [],
   "source": []
  },
  {
   "cell_type": "markdown",
   "metadata": {},
   "source": [
    "---\n",
    "\n",
    "# Day 14"
   ]
  },
  {
   "cell_type": "code",
   "execution_count": null,
   "metadata": {},
   "outputs": [],
   "source": []
  },
  {
   "cell_type": "markdown",
   "metadata": {},
   "source": [
    "---\n",
    "\n",
    "# Day 15"
   ]
  },
  {
   "cell_type": "code",
   "execution_count": null,
   "metadata": {},
   "outputs": [],
   "source": []
  },
  {
   "cell_type": "markdown",
   "metadata": {},
   "source": [
    "---\n",
    "\n",
    "# Day 16"
   ]
  },
  {
   "cell_type": "code",
   "execution_count": null,
   "metadata": {},
   "outputs": [],
   "source": []
  },
  {
   "cell_type": "markdown",
   "metadata": {},
   "source": [
    "---\n",
    "\n",
    "# Day 17"
   ]
  },
  {
   "cell_type": "code",
   "execution_count": null,
   "metadata": {},
   "outputs": [],
   "source": []
  },
  {
   "cell_type": "markdown",
   "metadata": {},
   "source": [
    "---\n",
    "\n",
    "# Day 18"
   ]
  },
  {
   "cell_type": "code",
   "execution_count": null,
   "metadata": {},
   "outputs": [],
   "source": []
  },
  {
   "cell_type": "markdown",
   "metadata": {},
   "source": [
    "---\n",
    "\n",
    "# Day 19"
   ]
  },
  {
   "cell_type": "code",
   "execution_count": null,
   "metadata": {},
   "outputs": [],
   "source": []
  },
  {
   "cell_type": "markdown",
   "metadata": {},
   "source": [
    "---\n",
    "\n",
    "# Day 20"
   ]
  },
  {
   "cell_type": "code",
   "execution_count": null,
   "metadata": {},
   "outputs": [],
   "source": []
  },
  {
   "cell_type": "markdown",
   "metadata": {},
   "source": [
    "---\n",
    "\n",
    "# Day 21"
   ]
  },
  {
   "cell_type": "code",
   "execution_count": null,
   "metadata": {},
   "outputs": [],
   "source": []
  },
  {
   "cell_type": "markdown",
   "metadata": {},
   "source": [
    "---\n",
    "\n",
    "# Day 22"
   ]
  },
  {
   "cell_type": "code",
   "execution_count": null,
   "metadata": {},
   "outputs": [],
   "source": []
  },
  {
   "cell_type": "markdown",
   "metadata": {},
   "source": [
    "---\n",
    "\n",
    "# Day 23"
   ]
  },
  {
   "cell_type": "code",
   "execution_count": null,
   "metadata": {},
   "outputs": [],
   "source": []
  },
  {
   "cell_type": "markdown",
   "metadata": {},
   "source": [
    "---\n",
    "\n",
    "# Day 24"
   ]
  },
  {
   "cell_type": "code",
   "execution_count": null,
   "metadata": {},
   "outputs": [],
   "source": []
  },
  {
   "cell_type": "code",
   "execution_count": null,
   "metadata": {},
   "outputs": [],
   "source": []
  },
  {
   "cell_type": "code",
   "execution_count": null,
   "metadata": {},
   "outputs": [],
   "source": []
  },
  {
   "cell_type": "code",
   "execution_count": null,
   "metadata": {},
   "outputs": [],
   "source": []
  }
 ],
 "metadata": {
  "kernelspec": {
   "display_name": "berlin_wall_env",
   "language": "python",
   "name": "python3"
  },
  "language_info": {
   "codemirror_mode": {
    "name": "ipython",
    "version": 3
   },
   "file_extension": ".py",
   "mimetype": "text/x-python",
   "name": "python",
   "nbconvert_exporter": "python",
   "pygments_lexer": "ipython3",
   "version": "3.12.7"
  }
 },
 "nbformat": 4,
 "nbformat_minor": 2
}
