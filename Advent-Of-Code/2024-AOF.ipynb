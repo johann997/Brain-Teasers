{
 "cells": [
  {
   "cell_type": "code",
   "execution_count": 5,
   "metadata": {},
   "outputs": [],
   "source": [
    "import numpy as np"
   ]
  },
  {
   "cell_type": "markdown",
   "metadata": {},
   "source": [
    "# Advent of Code 2024\n",
    "\n",
    "https://adventofcode.com/2024/about\n",
    "\n",
    "The creator of  Advent of Code has asked to not provide any of the question. So I will just link to each question and add my solutions below. \n",
    "\n",
    "\n",
    "---\n",
    "\n",
    "# Day 1\n",
    "\n",
    "https://adventofcode.com/2024/day/1"
   ]
  },
  {
   "cell_type": "code",
   "execution_count": null,
   "metadata": {},
   "outputs": [],
   "source": [
    "list1 = np.array([3,4,2,1,3,3])\n",
    "list2 = np.array([4,3,5,3,9,3])\n",
    "\n",
    "\n",
    "def list_distance(list1, list2):\n",
    "\n",
    "    list1_sort = np.sort(list1)\n",
    "    list2_sort = np.sort(list2)\n",
    "\n",
    "    diff = np.abs(list1_sort - list2_sort)\n",
    "\n",
    "    return np.sum(diff)"
   ]
  },
  {
   "cell_type": "code",
   "execution_count": 48,
   "metadata": {},
   "outputs": [
    {
     "name": "stdout",
     "output_type": "stream",
     "text": [
      "List distance is = 11\n"
     ]
    }
   ],
   "source": [
    "distance = list_distance(list1, list2)\n",
    "\n",
    "print(f'List distance is = {distance}')"
   ]
  },
  {
   "cell_type": "markdown",
   "metadata": {},
   "source": [
    "---\n",
    "\n",
    "# Day 2\n",
    "\n",
    "https://adventofcode.com/2024/day/2"
   ]
  },
  {
   "cell_type": "code",
   "execution_count": 45,
   "metadata": {},
   "outputs": [],
   "source": [
    "def is_report_safe(test):\n",
    "\n",
    "    test = np.array(test)\n",
    "\n",
    "    test1 = test[:-1]\n",
    "    test2 = test[1:]\n",
    "\n",
    "    diff = test2 - test1\n",
    "\n",
    "    pos = np.where(diff>0)[0]\n",
    "    neg = np.where(diff<0)[0]\n",
    "    \n",
    "    increase_decrease_check = False\n",
    "    if len(pos) == 0 or len(neg) == 0:\n",
    "        increase_decrease_check = True\n",
    "\n",
    "    diff = np.abs(diff)\n",
    "    adjacent_check = False\n",
    "    adjacent = np.where((diff < 1) | (diff > 3))[0]\n",
    "    if len(adjacent) == 0:\n",
    "        adjacent_check = True\n",
    "\n",
    "\n",
    "\n",
    "    if adjacent_check and increase_decrease_check:\n",
    "        return 'Safe'\n",
    "    else:\n",
    "        return 'Unsafe'\n",
    "\n",
    "        \n"
   ]
  },
  {
   "cell_type": "code",
   "execution_count": 46,
   "metadata": {},
   "outputs": [
    {
     "name": "stdout",
     "output_type": "stream",
     "text": [
      "--------------------------------------------------------------------------------\n",
      "1/6 correct\n",
      "--------------------------------------------------------------------------------\n",
      "2/6 correct\n",
      "--------------------------------------------------------------------------------\n",
      "3/6 correct\n",
      "--------------------------------------------------------------------------------\n",
      "4/6 correct\n",
      "--------------------------------------------------------------------------------\n",
      "5/6 correct\n",
      "--------------------------------------------------------------------------------\n",
      "6/6 correct\n"
     ]
    }
   ],
   "source": [
    "tests = [\n",
    "[[7, 6, 4, 2, 1], 'Safe'], #because the levels are all decreasing by 1 or 2.\n",
    "[[1, 2, 7, 8, 9], 'Unsafe'], #because 2 7 is an increase of 5.\n",
    "[[9, 7, 6, 2, 1], 'Unsafe'], #because 6 2 is a decrease of 4.\n",
    "[[1, 3, 2, 4, 5], 'Unsafe'], #because 1 3 is increasing but 3 2 is decreasing.\n",
    "[[8, 6, 4, 4, 1],  'Unsafe'], #because 4 4 is neither an increase or a decrease.\n",
    "[[1, 3, 6, 7, 9], 'Safe'], #because the levels are all increasing by 1, 2, or 3.\n",
    "]\n",
    "\n",
    "counter = 0\n",
    "for test_case in tests:\n",
    "    print('-'*80)\n",
    "\n",
    "    test, true_result = test_case\n",
    "    test_result = is_report_safe(test)\n",
    "\n",
    "    if true_result == test_result:\n",
    "        counter += 1\n",
    "        print(f'{counter}/{len(tests)} correct')\n"
   ]
  },
  {
   "cell_type": "markdown",
   "metadata": {},
   "source": [
    "---\n",
    "\n",
    "# Day 3"
   ]
  },
  {
   "cell_type": "markdown",
   "metadata": {},
   "source": [
    "---\n",
    "\n",
    "# Day 4"
   ]
  },
  {
   "cell_type": "markdown",
   "metadata": {},
   "source": [
    "---\n",
    "\n",
    "# Day 5"
   ]
  },
  {
   "cell_type": "markdown",
   "metadata": {},
   "source": [
    "---\n",
    "\n",
    "# Day 6"
   ]
  },
  {
   "cell_type": "markdown",
   "metadata": {},
   "source": [
    "---\n",
    "\n",
    "# Day 7"
   ]
  },
  {
   "cell_type": "markdown",
   "metadata": {},
   "source": [
    "---\n",
    "\n",
    "# Day 8"
   ]
  },
  {
   "cell_type": "markdown",
   "metadata": {},
   "source": [
    "---\n",
    "\n",
    "# Day 9"
   ]
  },
  {
   "cell_type": "markdown",
   "metadata": {},
   "source": [
    "---\n",
    "\n",
    "# Day 10"
   ]
  },
  {
   "cell_type": "markdown",
   "metadata": {},
   "source": []
  }
 ],
 "metadata": {
  "kernelspec": {
   "display_name": "berlin_wall_env",
   "language": "python",
   "name": "python3"
  },
  "language_info": {
   "codemirror_mode": {
    "name": "ipython",
    "version": 3
   },
   "file_extension": ".py",
   "mimetype": "text/x-python",
   "name": "python",
   "nbconvert_exporter": "python",
   "pygments_lexer": "ipython3",
   "version": "3.12.7"
  }
 },
 "nbformat": 4,
 "nbformat_minor": 2
}
